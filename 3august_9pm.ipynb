{
 "cells": [
  {
   "cell_type": "code",
   "execution_count": null,
   "id": "d8338f1a-8fcf-447c-b4ae-5fdffb3c5adc",
   "metadata": {},
   "outputs": [],
   "source": [
    "# from selenium import webdriver\n",
    "# from selenium.webdriver.chrome.options import Options\n",
    "# options = Options()\n",
    "# options.add_argument('--headless')\n",
    "# options.add_argument('--no-sandbox')\n",
    "# options.add_argument('--disable-dev-shm-usage')\n",
    "# driver = webdriver.Chrome(options=options)\n",
    "# driver.get('https://inshorts.com/en/read')\n",
    "\n",
    "# this is to open in cola"
   ]
  },
  {
   "cell_type": "code",
   "execution_count": 7,
   "id": "02635eef-c8a0-40c3-ad26-3e651a9dce73",
   "metadata": {},
   "outputs": [],
   "source": [
    "from selenium.webdriver import Chrome\n",
    "from selenium.webdriver.common.by import By"
   ]
  },
  {
   "cell_type": "code",
   "execution_count": 9,
   "id": "ee64e3ec-4792-4f85-80e6-154bfa83926e",
   "metadata": {},
   "outputs": [],
   "source": [
    "driver = Chrome()"
   ]
  },
  {
   "cell_type": "code",
   "execution_count": 11,
   "id": "5052daaa-a97a-4e82-9522-92d7c44df483",
   "metadata": {},
   "outputs": [],
   "source": [
    "driver.get('https://inshorts.com/en/read')"
   ]
  },
  {
   "cell_type": "code",
   "execution_count": 21,
   "id": "cd3c6db5-4362-4c58-88c2-b7bed0f0ba68",
   "metadata": {},
   "outputs": [],
   "source": [
    "headings = driver.find_elements(By.CLASS_NAME,'S2DdZEgzkqC9bYeTJUGw')"
   ]
  },
  {
   "cell_type": "code",
   "execution_count": 25,
   "id": "8f036758-85a9-4622-9e7f-bf2b74e96794",
   "metadata": {},
   "outputs": [
    {
     "name": "stdout",
     "output_type": "stream",
     "text": [
      "Indian Army releases statement on Army officer assaulting SpiceJet staff\n",
      "--------------------------------------------------\n",
      "TCS shareholders lose ₹47,500 crore in 5 sessions after 12,000 layoff announcement\n",
      "--------------------------------------------------\n",
      "Scientists recreate universe’s first chemical reaction after 13 billion years\n",
      "--------------------------------------------------\n",
      "7.0-magnitude earthquake hits Russia\n",
      "--------------------------------------------------\n",
      "Pakistan physio applies spray to Shoaib Malik's jersey instead of muscle, gets trolled\n",
      "--------------------------------------------------\n",
      "Sunil Gavaskar gifts special cap, shirt to Shubman Gill after his 754-run series\n",
      "--------------------------------------------------\n",
      "Yamuna nears warning level in Delhi\n",
      "--------------------------------------------------\n",
      "'Cash Loan' app loans ₹1,300 to woman, sends her morphed pics to family despite repayment\n",
      "--------------------------------------------------\n",
      "'Sanatan Dharma has ruined India,' says NCP-SCP MLA Awhad; sparks row\n",
      "--------------------------------------------------\n",
      "Fan changes red t-shirt after Ravindra Jadeja gets distracted while batting\n",
      "--------------------------------------------------\n",
      "Man uses boat for going to work amid flooded streets in Prayagraj\n",
      "--------------------------------------------------\n",
      "Himachal's Palampur faces peril amid growing environmental strain\n",
      "--------------------------------------------------\n",
      "Deceased organ donation alarmingly low in country: NOTTO report\n",
      "--------------------------------------------------\n",
      "Man drives car onto railway station platform in UP, video shows it close to train\n",
      "--------------------------------------------------\n",
      "May impose NSA against people spreading terror with drones: UP CM\n",
      "--------------------------------------------------\n"
     ]
    }
   ],
   "source": [
    "for i in headings:\n",
    "    print(i.text)\n",
    "    print('-' * 50)"
   ]
  },
  {
   "cell_type": "code",
   "execution_count": 29,
   "id": "ee6653c7-5054-4a64-8889-78f3511856e6",
   "metadata": {},
   "outputs": [],
   "source": [
    "descriptions = driver.find_elements(By.CLASS_NAME,'Hxtmf9GvkV8Ti6V0GUSn')"
   ]
  },
  {
   "cell_type": "code",
   "execution_count": 33,
   "id": "67da777a-ba13-4b2e-896b-62c8014c2b82",
   "metadata": {},
   "outputs": [
    {
     "name": "stdout",
     "output_type": "stream",
     "text": [
      "Speaking on alleged altercation between an Army officer and SpiceJet staff at Srinagar Airport, Indian Army said, \"This issue has come to notice of Indian Army...We're awaiting...conclusion of pending investigation.\" \"The Indian Army is fully committed to maintaining...mutual respect in all civil spaces,\" the statement read. The assault reportedly took place over dispute on excess luggage fees.\n",
      "--------------------------------------------------\n",
      "TCS shares eroded shareholder wealth worth nearly ₹47,500 crore in just five trading session, or one week, after the company announced plans to layoff 12,000 employees. The total market value of TCS fell from ₹11.34 lakh crore recorded on Friday, July 25 to ₹10.86 lakh crore on Friday, August 1. TCS shares have dipped about 4.2% in a week.\n",
      "--------------------------------------------------\n",
      "Scientists at the Max Planck Institute for Nuclear Physics and University of Giessen recreated the universe's first chemical reaction after 13 billion years. They reacted helium hydride ions (HeH⁺, the earliest molecule) with deuterium atoms, producing a heavier hydrogen ion (HD⁺) and neutral helium. This reaction was key to cooling early gas clouds and enabling the first stars to form.\n",
      "--------------------------------------------------\n",
      "A magnitude-7.0 earthquake struck Kuril Islands close to Kamchatka Peninsula in Russia's Far East. Tsunami waves were possible in three areas of Kamchatka, the nation's Ministry for Emergency Services said. \"The expected wave heights are low, but you must still move away from the shore,\" it stated. The Pacific Tsunami Warning System, however, said there was no tsunami warning.\n",
      "--------------------------------------------------\n",
      "During the WCL 2025 final between Pakistan and South Africa, Pakistan's physiotherapist applied spray to Shoaib Malik's jersey instead of his muscle. A video of the same went viral on social media. Reacting to the video, an X user sarcastically commented, \"Is it perfume?\" Another wrote, \"Common sense left the chat.\"\n",
      "--------------------------------------------------\n",
      "Ex-India captain Sunil Gavaskar gifted a special cap and shirt to current India skipper Shubman Gill for scoring 754 runs in the five-match series against England. Gavaskar told Gill he had planned the gift anticipating Gill would break record for most runs (774) by an Indian in a Test series. Gavaskar had scored 774 runs against West Indies in 1970-71.\n",
      "--------------------------------------------------\n",
      "The water level of Yamuna river in Delhi has reached 204.14 meters, close to the warning level of 204.5 meters. The officials stated that further rainfall could take the water level past the warning mark in the next 24-48 hours. The administration has urged people living in low-lying areas near Yamuna river to remain vigilant and avoid going near riverbanks.\n",
      "--------------------------------------------------\n",
      "An FIR was filed in Mumbai after a 25-year-old woman said a man, claiming to be 'Cash Loan' app's employee, sent her morphed pics to her family. She got ₹1,300 from the app after applying for a ₹2,000 loan. She gave ₹2,000 to the accused, who'd threatened to circulate her pics if she didn't repay even before the repayment deadline.\n",
      "--------------------------------------------------\n",
      "NCP (Sharad Chandra Pawar) MLA Jitendra Awhad sparked a controversy after saying that Sanatan Dharma has \"ruined India\" and calling its ideology \"perverted\". His comments came after all seven 2008 Malegaon blasts accused, including Pragya Thakur and Lt Colonel Prasad Purohit, were acquitted by a special NIA court on Thursday.\n",
      "--------------------------------------------------\n",
      "A fan sitting near the sight-screen changed his red t-shirt after India all-rounder Ravindra Jadeja got distracted while batting on Day 3 of The Oval Test. A stadium staff member offered the fan a grey t-shirt, which he wore over the red one. Jadeja acknowledged the gesture with a thumbs-up. The incident brought a brief halt to the play.\n",
      "--------------------------------------------------\n",
      "A video showed a man using a boat for going to work after the streets got flooded in UP's Prayagraj due to heavy rainfall. The man who was seen riding the boat from outside his home said, \"We are facing great difficulty...It is raining too.\" Reportedly, over 15,000 houses in Prayagraj were submerged as Ganga, Yamuna crossed the danger mark.\n",
      "--------------------------------------------------\n",
      "Palampur faces ecological crisis as unchecked deforestation erases deodar forests and rampant mining erodes stream banks. Environmentalists KB Ralhan and Subhash Sharma warn that the Neugal, Bhiral, and Mol streams have drastically widened due to illegal mining. Weak polythene ban enforcement worsens soil erosion, frequent landslides, and water pollution, threatening vital infrastructure.\n",
      "--------------------------------------------------\n",
      "Even as India recorded a surge in organ transplants in 2024, the latest report by the National Organ and Tissue Transplant Organisation (NOTTO), released on World Organ Donation Day, reveals a stark shortfall in deceased donations highlighting a persistent gap in the country's organ donation ecosystem. According to the annual report, India carried out 18,911 organ transplants between Jan-Dec 2024.\n",
      "--------------------------------------------------\n",
      "A man allegedly under the influence of alcohol drove a car onto the platform of Meerut Cantt railway station in Uttar Pradesh, causing panic among passengers. The vehicle damaged benches and came dangerously close to a train, a video of the incident showed. The man who claimed to be an Army personnel has been taken into custody by GRP.\n",
      "--------------------------------------------------\n",
      "Uttar Pradesh Chief Minister Yogi Adityanath said that NSA (National Security Act) and Gangster Act may be imposed on people spreading terror through drones. \"There will be a complete ban on operating drones without permission, and stringent action will be taken against violators,\" UP CM office stated. This comes after drones were spotted flying over a village in UP's Moradabad.\n",
      "--------------------------------------------------\n"
     ]
    }
   ],
   "source": [
    "for i in descriptions:\n",
    "    print(i.text)\n",
    "    print('-' * 50)"
   ]
  },
  {
   "cell_type": "code",
   "execution_count": 37,
   "id": "86aff9dc-1bba-43cf-a19f-f59703897613",
   "metadata": {},
   "outputs": [],
   "source": [
    "dates = driver.find_elements(By.CLASS_NAME,'date')\n",
    "#from selenium.webdriver.common.by import By"
   ]
  },
  {
   "cell_type": "code",
   "execution_count": 39,
   "id": "4b851c1f-3196-4c1e-ae09-72defb6fca13",
   "metadata": {},
   "outputs": [
    {
     "name": "stdout",
     "output_type": "stream",
     "text": [
      "Sunday 3 August, 2025\n",
      "Sunday 3 August, 2025\n",
      "Sunday 3 August, 2025\n",
      "Sunday 3 August, 2025\n",
      "Sunday 3 August, 2025\n",
      "Sunday 3 August, 2025\n",
      "Sunday 3 August, 2025\n",
      "Sunday 3 August, 2025\n",
      "Sunday 3 August, 2025\n",
      "Sunday 3 August, 2025\n",
      "Sunday 3 August, 2025\n",
      "Sunday 3 August, 2025\n",
      "Sunday 3 August, 2025\n",
      "Sunday 3 August, 2025\n",
      "Sunday 3 August, 2025\n"
     ]
    }
   ],
   "source": [
    "for i in dates:\n",
    "    print(i.text)"
   ]
  },
  {
   "cell_type": "code",
   "execution_count": null,
   "id": "719afe2d-5343-46da-a604-b0770cba686b",
   "metadata": {},
   "outputs": [],
   "source": []
  }
 ],
 "metadata": {
  "kernelspec": {
   "display_name": "Python 3 (ipykernel)",
   "language": "python",
   "name": "python3"
  },
  "language_info": {
   "codemirror_mode": {
    "name": "ipython",
    "version": 3
   },
   "file_extension": ".py",
   "mimetype": "text/x-python",
   "name": "python",
   "nbconvert_exporter": "python",
   "pygments_lexer": "ipython3",
   "version": "3.12.7"
  }
 },
 "nbformat": 4,
 "nbformat_minor": 5
}
