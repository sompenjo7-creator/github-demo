{
  "nbformat": 4,
  "nbformat_minor": 0,
  "metadata": {
    "colab": {
      "provenance": []
    },
    "kernelspec": {
      "name": "python3",
      "display_name": "Python 3"
    },
    "language_info": {
      "name": "python"
    }
  },
  "cells": [
    {
      "cell_type": "code",
      "execution_count": null,
      "metadata": {
        "id": "EUkq6M36cVAw"
      },
      "outputs": [],
      "source": [
        "#"
      ]
    },
    {
      "cell_type": "markdown",
      "source": [
        "# functions\n",
        "- reusable block of code\n"
      ],
      "metadata": {
        "id": "7Gp5SpKFcWi4"
      }
    },
    {
      "cell_type": "code",
      "source": [
        "def table(n):\n",
        "  for i in range(1,11):\n",
        "    print(f'{n} x {i} = {n * i}')"
      ],
      "metadata": {
        "id": "OS0tcE3jcacp"
      },
      "execution_count": 1,
      "outputs": []
    },
    {
      "cell_type": "code",
      "source": [
        "table(5)"
      ],
      "metadata": {
        "colab": {
          "base_uri": "https://localhost:8080/"
        },
        "id": "DmWBtwUsc1_3",
        "outputId": "4bfe76f6-067e-48d6-acff-69b759c38559"
      },
      "execution_count": 2,
      "outputs": [
        {
          "output_type": "stream",
          "name": "stdout",
          "text": [
            "5 x 1 = 5\n",
            "5 x 2 = 10\n",
            "5 x 3 = 15\n",
            "5 x 4 = 20\n",
            "5 x 5 = 25\n",
            "5 x 6 = 30\n",
            "5 x 7 = 35\n",
            "5 x 8 = 40\n",
            "5 x 9 = 45\n",
            "5 x 10 = 50\n"
          ]
        }
      ]
    },
    {
      "cell_type": "code",
      "source": [
        "table(10)"
      ],
      "metadata": {
        "colab": {
          "base_uri": "https://localhost:8080/"
        },
        "id": "bMPOJu_zc7tq",
        "outputId": "07042c84-7124-4628-a163-1b60a285d096"
      },
      "execution_count": 4,
      "outputs": [
        {
          "output_type": "stream",
          "name": "stdout",
          "text": [
            "10 x 1 = 10\n",
            "10 x 2 = 20\n",
            "10 x 3 = 30\n",
            "10 x 4 = 40\n",
            "10 x 5 = 50\n",
            "10 x 6 = 60\n",
            "10 x 7 = 70\n",
            "10 x 8 = 80\n",
            "10 x 9 = 90\n",
            "10 x 10 = 100\n"
          ]
        }
      ]
    },
    {
      "cell_type": "code",
      "source": [
        "table(20)"
      ],
      "metadata": {
        "colab": {
          "base_uri": "https://localhost:8080/"
        },
        "id": "EFH0zWGnc9SH",
        "outputId": "fdf0ab35-eba7-4927-9351-e482ead24b61"
      },
      "execution_count": 6,
      "outputs": [
        {
          "output_type": "stream",
          "name": "stdout",
          "text": [
            "20 x 1 = 20\n",
            "20 x 2 = 40\n",
            "20 x 3 = 60\n",
            "20 x 4 = 80\n",
            "20 x 5 = 100\n",
            "20 x 6 = 120\n",
            "20 x 7 = 140\n",
            "20 x 8 = 160\n",
            "20 x 9 = 180\n",
            "20 x 10 = 200\n"
          ]
        }
      ]
    },
    {
      "cell_type": "code",
      "source": [
        "# functions - built in functions\n",
        "# user defined functions"
      ],
      "metadata": {
        "id": "mcO1Q3sZc_V0"
      },
      "execution_count": 7,
      "outputs": []
    },
    {
      "cell_type": "code",
      "source": [
        "L = [4,6,7,6,54]"
      ],
      "metadata": {
        "id": "MwqNcpRydILA"
      },
      "execution_count": 8,
      "outputs": []
    },
    {
      "cell_type": "code",
      "source": [
        "sum(L)"
      ],
      "metadata": {
        "colab": {
          "base_uri": "https://localhost:8080/"
        },
        "id": "eThbPXgTeTef",
        "outputId": "ec8622c5-b301-4254-dd21-a29823d4ae5a"
      },
      "execution_count": 9,
      "outputs": [
        {
          "output_type": "execute_result",
          "data": {
            "text/plain": [
              "77"
            ]
          },
          "metadata": {},
          "execution_count": 9
        }
      ]
    },
    {
      "cell_type": "code",
      "source": [
        "max(L)"
      ],
      "metadata": {
        "colab": {
          "base_uri": "https://localhost:8080/"
        },
        "id": "vi8TwoqceWaq",
        "outputId": "5e360fdb-d48c-4c9d-a304-6df3bdcd246a"
      },
      "execution_count": 10,
      "outputs": [
        {
          "output_type": "execute_result",
          "data": {
            "text/plain": [
              "54"
            ]
          },
          "metadata": {},
          "execution_count": 10
        }
      ]
    },
    {
      "cell_type": "code",
      "source": [
        "min(L)"
      ],
      "metadata": {
        "colab": {
          "base_uri": "https://localhost:8080/"
        },
        "id": "Smr83TqxeXcL",
        "outputId": "8277e8db-1675-446a-ccb0-64be190e1fb6"
      },
      "execution_count": 11,
      "outputs": [
        {
          "output_type": "execute_result",
          "data": {
            "text/plain": [
              "4"
            ]
          },
          "metadata": {},
          "execution_count": 11
        }
      ]
    },
    {
      "cell_type": "code",
      "source": [
        "def sum2(a,b):\n",
        "  print(a + b)"
      ],
      "metadata": {
        "id": "cq_cM0nVeYq2"
      },
      "execution_count": 12,
      "outputs": []
    },
    {
      "cell_type": "code",
      "source": [
        "sum2(4,8)"
      ],
      "metadata": {
        "colab": {
          "base_uri": "https://localhost:8080/"
        },
        "id": "HZkfaLBrfe1W",
        "outputId": "839dff1d-9744-4f55-b2d1-a3a9b072c061"
      },
      "execution_count": 15,
      "outputs": [
        {
          "output_type": "stream",
          "name": "stdout",
          "text": [
            "12\n"
          ]
        }
      ]
    },
    {
      "cell_type": "code",
      "source": [
        "result = sum2(2,2)"
      ],
      "metadata": {
        "colab": {
          "base_uri": "https://localhost:8080/"
        },
        "id": "_3qsLSCjfqE9",
        "outputId": "0a51d141-0f2e-4d33-d127-ca5792c3a60f"
      },
      "execution_count": 16,
      "outputs": [
        {
          "output_type": "stream",
          "name": "stdout",
          "text": [
            "4\n"
          ]
        }
      ]
    },
    {
      "cell_type": "code",
      "source": [
        "print(result)"
      ],
      "metadata": {
        "colab": {
          "base_uri": "https://localhost:8080/"
        },
        "id": "QGbegIHbgOAt",
        "outputId": "4d3c4a9a-9bb3-4075-8696-1b9809112bae"
      },
      "execution_count": 17,
      "outputs": [
        {
          "output_type": "stream",
          "name": "stdout",
          "text": [
            "None\n"
          ]
        }
      ]
    },
    {
      "cell_type": "code",
      "source": [
        "'''\n",
        "- return is a keyword in a function\n",
        "- used to give a value back\n",
        "- if return is not there what will function give back\n",
        "- once return is executed function is terminated\n",
        "'''"
      ],
      "metadata": {
        "colab": {
          "base_uri": "https://localhost:8080/",
          "height": 53
        },
        "id": "rsbWtkijgUMC",
        "outputId": "77cc0823-1e07-4593-fdf2-3ea36bc7ef17"
      },
      "execution_count": 18,
      "outputs": [
        {
          "output_type": "execute_result",
          "data": {
            "text/plain": [
              "'\\n- return is a keyword in a function \\n- used to give a value back \\n- if return is not there what will function give back \\n- once return is executed function is terminated \\n'"
            ],
            "application/vnd.google.colaboratory.intrinsic+json": {
              "type": "string"
            }
          },
          "metadata": {},
          "execution_count": 18
        }
      ]
    },
    {
      "cell_type": "code",
      "source": [
        "def sum2(a,b):\n",
        "  return a + b"
      ],
      "metadata": {
        "id": "KSSOyGj8gzfw"
      },
      "execution_count": 19,
      "outputs": []
    },
    {
      "cell_type": "code",
      "source": [
        "result = sum2(2,3)"
      ],
      "metadata": {
        "id": "C3VQwKwug5vh"
      },
      "execution_count": 20,
      "outputs": []
    },
    {
      "cell_type": "code",
      "source": [
        "print(result)"
      ],
      "metadata": {
        "colab": {
          "base_uri": "https://localhost:8080/"
        },
        "id": "GfVHdfYrg_lX",
        "outputId": "542c90ee-6e92-4bfd-b96c-65b365e6e2a2"
      },
      "execution_count": 21,
      "outputs": [
        {
          "output_type": "stream",
          "name": "stdout",
          "text": [
            "5\n"
          ]
        }
      ]
    },
    {
      "cell_type": "code",
      "source": [
        "def area(L,B):\n",
        "  return L * B"
      ],
      "metadata": {
        "id": "8o2epVxYhCeA"
      },
      "execution_count": 22,
      "outputs": []
    },
    {
      "cell_type": "code",
      "source": [
        "area(4,4)"
      ],
      "metadata": {
        "colab": {
          "base_uri": "https://localhost:8080/"
        },
        "id": "efkM7A2lhTcR",
        "outputId": "87a46f40-3ae4-4ba4-977c-60570389d58a"
      },
      "execution_count": 23,
      "outputs": [
        {
          "output_type": "execute_result",
          "data": {
            "text/plain": [
              "16"
            ]
          },
          "metadata": {},
          "execution_count": 23
        }
      ]
    },
    {
      "cell_type": "code",
      "source": [
        "def odd_even(a):\n",
        "  odd = []\n",
        "  even = []\n",
        "  for i in a:\n",
        "    if i % 2 == 0:\n",
        "      even.append(i)\n",
        "    else:\n",
        "      odd.append(i)\n",
        "  return odd, even"
      ],
      "metadata": {
        "id": "G6k3bTQshUZV"
      },
      "execution_count": 24,
      "outputs": []
    },
    {
      "cell_type": "code",
      "source": [
        "odd_even([3,5,67,8,765,4,3,45,6])"
      ],
      "metadata": {
        "colab": {
          "base_uri": "https://localhost:8080/"
        },
        "id": "S7mErH3vhqFf",
        "outputId": "159f9eba-edd8-4a84-ab29-9f6df9ac94e1"
      },
      "execution_count": 25,
      "outputs": [
        {
          "output_type": "execute_result",
          "data": {
            "text/plain": [
              "([3, 5, 67, 765, 3, 45], [8, 4, 6])"
            ]
          },
          "metadata": {},
          "execution_count": 25
        }
      ]
    },
    {
      "cell_type": "code",
      "source": [],
      "metadata": {
        "id": "_0T4hcxDhsUU"
      },
      "execution_count": null,
      "outputs": []
    },
    {
      "cell_type": "code",
      "source": [],
      "metadata": {
        "id": "RzOF9rK1huca"
      },
      "execution_count": null,
      "outputs": []
    },
    {
      "cell_type": "code",
      "source": [
        "odd_even([4,4,67,65,4,44,89,97])"
      ],
      "metadata": {
        "colab": {
          "base_uri": "https://localhost:8080/"
        },
        "id": "DodfmXFhhufK",
        "outputId": "ec41eb89-82c9-42ad-cc23-76dd61371bd7"
      },
      "execution_count": 26,
      "outputs": [
        {
          "output_type": "execute_result",
          "data": {
            "text/plain": [
              "([67, 65, 89, 97], [4, 4, 4, 44])"
            ]
          },
          "metadata": {},
          "execution_count": 26
        }
      ]
    },
    {
      "cell_type": "code",
      "source": [
        "a = len('sumit')"
      ],
      "metadata": {
        "id": "YAfLh2rthwyo"
      },
      "execution_count": 27,
      "outputs": []
    },
    {
      "cell_type": "code",
      "source": [
        "print(a)"
      ],
      "metadata": {
        "colab": {
          "base_uri": "https://localhost:8080/"
        },
        "id": "7g1lVFzyksEy",
        "outputId": "c3c63681-1149-4779-e142-a23b069dc276"
      },
      "execution_count": 28,
      "outputs": [
        {
          "output_type": "stream",
          "name": "stdout",
          "text": [
            "5\n"
          ]
        }
      ]
    },
    {
      "cell_type": "code",
      "source": [
        "x = type(5)"
      ],
      "metadata": {
        "id": "Oj08u6dvk3xK"
      },
      "execution_count": 29,
      "outputs": []
    },
    {
      "cell_type": "code",
      "source": [
        "print(x)"
      ],
      "metadata": {
        "colab": {
          "base_uri": "https://localhost:8080/"
        },
        "id": "4oLJM_5blJmK",
        "outputId": "a2e200d9-874f-4aa3-9da2-b52ee6857441"
      },
      "execution_count": 30,
      "outputs": [
        {
          "output_type": "stream",
          "name": "stdout",
          "text": [
            "<class 'int'>\n"
          ]
        }
      ]
    },
    {
      "cell_type": "code",
      "source": [
        "x = sum([3,46,7,6])"
      ],
      "metadata": {
        "id": "mNHRJoy1lUHR"
      },
      "execution_count": 32,
      "outputs": []
    },
    {
      "cell_type": "code",
      "source": [
        "print(x)"
      ],
      "metadata": {
        "colab": {
          "base_uri": "https://localhost:8080/"
        },
        "id": "5ojM8WHklguo",
        "outputId": "eb53d49e-bfcc-475a-f618-cfd861c982ad"
      },
      "execution_count": 33,
      "outputs": [
        {
          "output_type": "stream",
          "name": "stdout",
          "text": [
            "62\n"
          ]
        }
      ]
    },
    {
      "cell_type": "code",
      "source": [
        "print(type('s'))"
      ],
      "metadata": {
        "colab": {
          "base_uri": "https://localhost:8080/"
        },
        "id": "OV5cTyTAliji",
        "outputId": "27cb10ec-2f02-4606-ff4f-8866364526c5"
      },
      "execution_count": 34,
      "outputs": [
        {
          "output_type": "stream",
          "name": "stdout",
          "text": [
            "<class 'str'>\n"
          ]
        }
      ]
    },
    {
      "cell_type": "code",
      "source": [
        "# arguments are used for information passing\n",
        "# between a function call and its definition"
      ],
      "metadata": {
        "id": "MemlDpE3nb8f"
      },
      "execution_count": 35,
      "outputs": []
    },
    {
      "cell_type": "code",
      "source": [
        "'''\n",
        "create a function which takes one argument\n",
        "--> List\n",
        "sums up all integers only\n",
        "and returns the sum of integers\n",
        "List may consist of any values of any data types\n",
        "'''"
      ],
      "metadata": {
        "id": "vSR1uPMxowPT"
      },
      "execution_count": null,
      "outputs": []
    },
    {
      "cell_type": "code",
      "source": [
        "L = [4,6,'sumit',5.6,5]\n",
        "# e/o 15\n",
        "new = []\n",
        "for i in L:\n",
        "  if type(i) == int:\n",
        "    new.append(i)\n",
        "result = sum(new)\n",
        "print(result)"
      ],
      "metadata": {
        "colab": {
          "base_uri": "https://localhost:8080/"
        },
        "id": "qRwYOLi7qJtS",
        "outputId": "4f5256af-e475-4ad3-9df7-834b04c22160"
      },
      "execution_count": 38,
      "outputs": [
        {
          "output_type": "stream",
          "name": "stdout",
          "text": [
            "15\n"
          ]
        }
      ]
    },
    {
      "cell_type": "code",
      "source": [
        "def sum_integers(L):\n",
        "  new = []\n",
        "  for i in L:\n",
        "    if type(i) == int:\n",
        "      new.append(i)\n",
        "  result = sum(new)\n",
        "  return result"
      ],
      "metadata": {
        "id": "ckl4cDdcqw7H"
      },
      "execution_count": 39,
      "outputs": []
    },
    {
      "cell_type": "code",
      "source": [
        "sum_integers([5,7,8,'sf',46,5.4])   #function call / invoking a function"
      ],
      "metadata": {
        "colab": {
          "base_uri": "https://localhost:8080/"
        },
        "id": "xzoKEIWerRd1",
        "outputId": "17e5ff80-b3e2-4e99-c4c0-c29ddfe0f674"
      },
      "execution_count": 40,
      "outputs": [
        {
          "output_type": "execute_result",
          "data": {
            "text/plain": [
              "66"
            ]
          },
          "metadata": {},
          "execution_count": 40
        }
      ]
    },
    {
      "cell_type": "code",
      "source": [
        "sum_integers([6,6,'s'])"
      ],
      "metadata": {
        "colab": {
          "base_uri": "https://localhost:8080/"
        },
        "id": "oVYu166-rZ2-",
        "outputId": "6c292107-48a2-42ca-dece-c2e3ae3372de"
      },
      "execution_count": 41,
      "outputs": [
        {
          "output_type": "execute_result",
          "data": {
            "text/plain": [
              "12"
            ]
          },
          "metadata": {},
          "execution_count": 41
        }
      ]
    },
    {
      "cell_type": "code",
      "source": [
        "# create a function which returns odd even if a number is odd or even\n",
        "# taking one integer argument"
      ],
      "metadata": {
        "id": "uf38q1vcrc8c"
      },
      "execution_count": 42,
      "outputs": []
    },
    {
      "cell_type": "code",
      "source": [
        "def odd_even(n):\n",
        "  if n % 2 == 0:\n",
        "    return 'even'\n",
        "  else:\n",
        "    return 'odd'"
      ],
      "metadata": {
        "id": "zD64y2SxsI_s"
      },
      "execution_count": 43,
      "outputs": []
    },
    {
      "cell_type": "code",
      "source": [
        "odd_even(40)"
      ],
      "metadata": {
        "colab": {
          "base_uri": "https://localhost:8080/",
          "height": 35
        },
        "id": "YfEv63NGsSLC",
        "outputId": "08df2607-981c-4f49-c163-d163770c864a"
      },
      "execution_count": 46,
      "outputs": [
        {
          "output_type": "execute_result",
          "data": {
            "text/plain": [
              "'even'"
            ],
            "application/vnd.google.colaboratory.intrinsic+json": {
              "type": "string"
            }
          },
          "metadata": {},
          "execution_count": 46
        }
      ]
    },
    {
      "cell_type": "code",
      "source": [
        "if 'ddd' in ['aple','banan','ddd']:\n",
        "  print('hi')"
      ],
      "metadata": {
        "colab": {
          "base_uri": "https://localhost:8080/"
        },
        "id": "3ghgX9D3sTbF",
        "outputId": "ed946387-b5c1-4400-ac22-679265527209"
      },
      "execution_count": 48,
      "outputs": [
        {
          "output_type": "stream",
          "name": "stdout",
          "text": [
            "hi\n"
          ]
        }
      ]
    },
    {
      "cell_type": "code",
      "source": [
        "# count number of vowels in a string\n",
        "# a e i o  u\n",
        "name = 'sumit'\n",
        "# e/o -> 2\n",
        "vowel_count = 0\n",
        "for i in name:\n",
        "  if i in ['a','e','i','o','u']:\n",
        "    vowel_count = vowel_count + 1       # vowel_count += 1\n",
        "print(vowel_count)"
      ],
      "metadata": {
        "colab": {
          "base_uri": "https://localhost:8080/"
        },
        "id": "azW6NAD8tBI3",
        "outputId": "c14a48ed-b319-4190-ad2b-1965da39d234"
      },
      "execution_count": 49,
      "outputs": [
        {
          "output_type": "stream",
          "name": "stdout",
          "text": [
            "2\n"
          ]
        }
      ]
    },
    {
      "cell_type": "code",
      "source": [
        "def vowel_count(s):\n",
        "  count = 0\n",
        "  vowels = ['a','e','i','o','u']\n",
        "  for i in s:\n",
        "    if i.lower() in vowels:\n",
        "      count = count + 1\n",
        "  return count"
      ],
      "metadata": {
        "id": "rNbUF_XQuMDE"
      },
      "execution_count": 50,
      "outputs": []
    },
    {
      "cell_type": "code",
      "source": [
        "vowel_count(input())"
      ],
      "metadata": {
        "colab": {
          "base_uri": "https://localhost:8080/"
        },
        "id": "uq1L9MEYuYxz",
        "outputId": "dd6d9f22-4e41-4a20-f810-394e6e8d69c5"
      },
      "execution_count": 53,
      "outputs": [
        {
          "name": "stdout",
          "output_type": "stream",
          "text": [
            "dfoisu\n"
          ]
        },
        {
          "output_type": "execute_result",
          "data": {
            "text/plain": [
              "3"
            ]
          },
          "metadata": {},
          "execution_count": 53
        }
      ]
    },
    {
      "cell_type": "code",
      "source": [
        "s = 'book'\n",
        "m = len(s) // 2\n",
        "lhs = s[:m]\n",
        "rhs = s[m:]\n",
        "L_count = 0\n",
        "R_count = 0\n",
        "vowels = ['a','e','i','o','u']\n",
        "\n",
        "for i in lhs:\n",
        "  if i in vowels:\n",
        "    L_count = L_count + 1\n",
        "for i in rhs:\n",
        "  if i in vowels:\n",
        "    R_count = R_count + 1\n",
        "if L_count == R_count:\n",
        "  print('equal')\n",
        "else:\n",
        "  print('unequal')"
      ],
      "metadata": {
        "colab": {
          "base_uri": "https://localhost:8080/"
        },
        "id": "yKDQR-79ubpF",
        "outputId": "a4096d5f-f3ad-42de-eb3e-fdfec415e271"
      },
      "execution_count": 54,
      "outputs": [
        {
          "output_type": "stream",
          "name": "stdout",
          "text": [
            "equal\n"
          ]
        }
      ]
    },
    {
      "cell_type": "code",
      "source": [
        "def equl_halves(s):\n",
        "  m = len(s) // 2\n",
        "  lhs = s[:m]\n",
        "  rhs = s[m:]\n",
        "  L_count = 0\n",
        "  R_count = 0\n",
        "  vowels = ['a','e','i','o','u']\n",
        "\n",
        "  for i in lhs:\n",
        "    if i in vowels:\n",
        "      L_count = L_count + 1\n",
        "  for i in rhs:\n",
        "    if i in vowels:\n",
        "      R_count = R_count + 1\n",
        "  if L_count == R_count:\n",
        "    return 'equal'\n",
        "  else:\n",
        "    return 'unequak'"
      ],
      "metadata": {
        "id": "JpXEhqMqyuR-"
      },
      "execution_count": 55,
      "outputs": []
    },
    {
      "cell_type": "code",
      "source": [
        "equl_halves('book')"
      ],
      "metadata": {
        "colab": {
          "base_uri": "https://localhost:8080/",
          "height": 35
        },
        "id": "wD6PVlOGy9kp",
        "outputId": "b35683d1-9144-4ef2-8bb6-42e0aacd5b4f"
      },
      "execution_count": 56,
      "outputs": [
        {
          "output_type": "execute_result",
          "data": {
            "text/plain": [
              "'equal'"
            ],
            "application/vnd.google.colaboratory.intrinsic+json": {
              "type": "string"
            }
          },
          "metadata": {},
          "execution_count": 56
        }
      ]
    },
    {
      "cell_type": "code",
      "source": [
        "equl_halves('sumiit')"
      ],
      "metadata": {
        "colab": {
          "base_uri": "https://localhost:8080/",
          "height": 35
        },
        "id": "4pjYJA6DzAbJ",
        "outputId": "ec823afa-ab43-483d-fd11-7661aa906d7c"
      },
      "execution_count": 57,
      "outputs": [
        {
          "output_type": "execute_result",
          "data": {
            "text/plain": [
              "'unequak'"
            ],
            "application/vnd.google.colaboratory.intrinsic+json": {
              "type": "string"
            }
          },
          "metadata": {},
          "execution_count": 57
        }
      ]
    },
    {
      "cell_type": "code",
      "source": [],
      "metadata": {
        "id": "XP81hX34zC_0"
      },
      "execution_count": null,
      "outputs": []
    }
  ]
}